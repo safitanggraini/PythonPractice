{
  "nbformat": 4,
  "nbformat_minor": 0,
  "metadata": {
    "colab": {
      "provenance": [],
      "authorship_tag": "ABX9TyMylyqmCIaE6qwG/+qTGgB7",
      "include_colab_link": true
    },
    "kernelspec": {
      "name": "python3",
      "display_name": "Python 3"
    },
    "language_info": {
      "name": "python"
    }
  },
  "cells": [
    {
      "cell_type": "markdown",
      "metadata": {
        "id": "view-in-github",
        "colab_type": "text"
      },
      "source": [
        "<a href=\"https://colab.research.google.com/github/safitanggraini/PythonPractice/blob/main/gametebakangka.ipynb\" target=\"_parent\"><img src=\"https://colab.research.google.com/assets/colab-badge.svg\" alt=\"Open In Colab\"/></a>"
      ]
    },
    {
      "cell_type": "code",
      "execution_count": 2,
      "metadata": {
        "colab": {
          "base_uri": "https://localhost:8080/"
        },
        "id": "TyrKwwiPf0Vd",
        "outputId": "2fda5bb2-fba7-4564-f857-4d819ec68900"
      },
      "outputs": [
        {
          "output_type": "stream",
          "name": "stdout",
          "text": [
            "🎮 Selamat datang di game Tebak Angka!\n",
            "Saya telah memilih angka antara 1 hingga 100. Coba tebak! 🤔\n",
            "Masukkan tebakanmu: 6\n",
            "🔼 Terlalu kecil! Coba lagi.\n",
            "Masukkan tebakanmu: 8\n",
            "🔼 Terlalu kecil! Coba lagi.\n",
            "Masukkan tebakanmu: 96\n",
            "🔽 Terlalu besar! Coba lagi.\n",
            "Masukkan tebakanmu: 43\n",
            "🔼 Terlalu kecil! Coba lagi.\n",
            "Masukkan tebakanmu: 25\n",
            "🔼 Terlalu kecil! Coba lagi.\n",
            "Masukkan tebakanmu: 65\n",
            "🔼 Terlalu kecil! Coba lagi.\n",
            "Masukkan tebakanmu: 80\n",
            "🔼 Terlalu kecil! Coba lagi.\n",
            "Masukkan tebakanmu: 90\n",
            "🎉 Selamat! Kamu menebak angka 90 dalam 8 percobaan.\n"
          ]
        }
      ],
      "source": [
        "import random\n",
        "\n",
        "def tebak_angka():\n",
        "    print(\"🎮 Selamat datang di game Tebak Angka!\")\n",
        "    print(\"Saya telah memilih angka antara 1 hingga 100. Coba tebak! 🤔\")\n",
        "\n",
        "    angka_rahasia = random.randint(1, 100)\n",
        "    percobaan = 0\n",
        "\n",
        "    while True:\n",
        "        try:\n",
        "            tebakan = int(input(\"Masukkan tebakanmu: \"))\n",
        "            percobaan += 1\n",
        "\n",
        "            if tebakan < angka_rahasia:\n",
        "                print(\"🔼 Terlalu kecil! Coba lagi.\")\n",
        "            elif tebakan > angka_rahasia:\n",
        "                print(\"🔽 Terlalu besar! Coba lagi.\")\n",
        "            else:\n",
        "                print(f\"🎉 Selamat! Kamu menebak angka {angka_rahasia} dalam {percobaan} percobaan.\")\n",
        "                break\n",
        "        except ValueError:\n",
        "            print(\"⚠️ Masukkan angka yang valid!\")\n",
        "\n",
        "# Jalankan game\n",
        "tebak_angka()\n"
      ]
    }
  ]
}